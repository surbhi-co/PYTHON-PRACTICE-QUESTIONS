{
 "cells": [
  {
   "cell_type": "markdown",
   "id": "linear-latino",
   "metadata": {},
   "source": [
    "### QUESTIONS on numbers and strings"
   ]
  },
  {
   "cell_type": "code",
   "execution_count": 1,
   "id": "greenhouse-detective",
   "metadata": {},
   "outputs": [
    {
     "data": {
      "text/plain": [
       "12"
      ]
     },
     "execution_count": 1,
     "metadata": {},
     "output_type": "execute_result"
    }
   ],
   "source": [
    "# 1.\tadd three numbers.\n",
    "\n",
    "def add3num(a,b,c):\n",
    "    result = a+b+c\n",
    "    return result\n",
    "\n",
    "add3num(3,4,5)\n"
   ]
  },
  {
   "cell_type": "code",
   "execution_count": 2,
   "id": "lightweight-environment",
   "metadata": {},
   "outputs": [
    {
     "data": {
      "text/plain": [
       "8"
      ]
     },
     "execution_count": 2,
     "metadata": {},
     "output_type": "execute_result"
    }
   ],
   "source": [
    "# 2.\tmultiply two numbers.\n",
    "\n",
    "def mult2num(a,b):\n",
    "    result = a*b\n",
    "    return result\n",
    "\n",
    "mult2num(2,4)"
   ]
  },
  {
   "cell_type": "code",
   "execution_count": 3,
   "id": "preliminary-ivory",
   "metadata": {},
   "outputs": [
    {
     "data": {
      "text/plain": [
       "-1"
      ]
     },
     "execution_count": 3,
     "metadata": {},
     "output_type": "execute_result"
    }
   ],
   "source": [
    "# 3.\tsubtract two numbers.\n",
    "\n",
    "def sub2num(a,b):\n",
    "    result = a-b\n",
    "    return result\n",
    "\n",
    "sub2num(4,5)"
   ]
  },
  {
   "cell_type": "code",
   "execution_count": 4,
   "id": "downtown-vegetarian",
   "metadata": {},
   "outputs": [
    {
     "name": "stdout",
     "output_type": "stream",
     "text": [
      "quotient :  2\n",
      "remainder :  1\n"
     ]
    }
   ],
   "source": [
    "# 4.\tdivide first number by second number and return the quotient and remainder separately.\n",
    "\n",
    "def div(a,b):\n",
    "    quotient = a//b\n",
    "    remainder = a%b\n",
    "    \n",
    "    print(\"quotient : \",quotient)\n",
    "    print(\"remainder : \",remainder)\n",
    "    \n",
    "div(5,2)"
   ]
  },
  {
   "cell_type": "code",
   "execution_count": 5,
   "id": "operating-import",
   "metadata": {},
   "outputs": [
    {
     "data": {
      "text/plain": [
       "16"
      ]
     },
     "execution_count": 5,
     "metadata": {},
     "output_type": "execute_result"
    }
   ],
   "source": [
    "# 5.\tfind the square of a number.\n",
    "\n",
    "def square(a):\n",
    "    c = a**2\n",
    "    return c\n",
    "\n",
    "square(4)"
   ]
  },
  {
   "cell_type": "code",
   "execution_count": 6,
   "id": "consistent-insertion",
   "metadata": {},
   "outputs": [
    {
     "name": "stdout",
     "output_type": "stream",
     "text": [
      "maximum of the two numbers is  4\n",
      "numbers are equal\n",
      "None\n"
     ]
    }
   ],
   "source": [
    "# 6.\tfind the greater of the two numbers given. | max() conditionals and looping\n",
    "\n",
    "def maxnum(a,b):\n",
    "    if a > b:\n",
    "        print(\"maximum of the two numbers is \",a)\n",
    "    \n",
    "    elif b>a:\n",
    "        print(\"maximum of the two numbers is \",b)\n",
    "        \n",
    "    else :\n",
    "        print(\"numbers are equal\")\n",
    "        \n",
    "        \n",
    "maxnum(2,4)\n",
    "print(maxnum(4,4))"
   ]
  },
  {
   "cell_type": "code",
   "execution_count": 7,
   "id": "macro-orientation",
   "metadata": {},
   "outputs": [
    {
     "data": {
      "text/plain": [
       "27"
      ]
     },
     "execution_count": 7,
     "metadata": {},
     "output_type": "execute_result"
    }
   ],
   "source": [
    "# 7.\tfind the cube of a number.\n",
    "\n",
    "def cube(a):\n",
    "    c=a**3\n",
    "    return c\n",
    "\n",
    "cube(3)"
   ]
  },
  {
   "cell_type": "code",
   "execution_count": 8,
   "id": "level-matthew",
   "metadata": {},
   "outputs": [
    {
     "name": "stdout",
     "output_type": "stream",
     "text": [
      "area of the square with given side is  25\n"
     ]
    }
   ],
   "source": [
    "# 8.\tfind the area of a square.\n",
    "def area_of_square(a):\n",
    "    c=a**2\n",
    "    print(\"area of the square with given side is \", c)\n",
    "    \n",
    "area_of_square(5)"
   ]
  },
  {
   "cell_type": "code",
   "execution_count": 9,
   "id": "handy-middle",
   "metadata": {},
   "outputs": [
    {
     "name": "stdout",
     "output_type": "stream",
     "text": [
      "Area of the circle is  12.56\n"
     ]
    }
   ],
   "source": [
    "# 9.\tfind the area of a circle.\n",
    "import math\n",
    "def area_of_circle(radius):\n",
    "    c=3.14*(radius**2)\n",
    "    print(\"Area of the circle is \",c)\n",
    "    \n",
    "\n",
    "area_of_circle(2)"
   ]
  },
  {
   "cell_type": "code",
   "execution_count": 10,
   "id": "veterinary-dining",
   "metadata": {},
   "outputs": [
    {
     "name": "stdout",
     "output_type": "stream",
     "text": [
      "The simple interest is  144.0\n"
     ]
    }
   ],
   "source": [
    "# 10.\tfind the simple interest given principal, interest rate and time period.\n",
    "\n",
    "def SI(principle,rate,time):\n",
    "    \n",
    "    s=(principle*rate*time)/100\n",
    "    \n",
    "    print(\"The simple interest is \",s)\n",
    "    \n",
    "SI(2400,3,2)"
   ]
  },
  {
   "cell_type": "code",
   "execution_count": 11,
   "id": "shared-viewer",
   "metadata": {},
   "outputs": [
    {
     "name": "stdout",
     "output_type": "stream",
     "text": [
      "The CI is  146.15999999999985\n"
     ]
    }
   ],
   "source": [
    "# 11.\tfind the compound interest given principal, interest rate and time period.\n",
    "\n",
    "def CI(principle,rate,time):\n",
    "    amount = principle*((1+(rate/100))**time)\n",
    "    c=amount -principle\n",
    "    print(\"The CI is \",c)\n",
    "    \n",
    "\n",
    "CI(2400,3,2)    "
   ]
  },
  {
   "cell_type": "code",
   "execution_count": 12,
   "id": "strong-paragraph",
   "metadata": {},
   "outputs": [
    {
     "data": {
      "text/plain": [
       "7"
      ]
     },
     "execution_count": 12,
     "metadata": {},
     "output_type": "execute_result"
    }
   ],
   "source": [
    "# 12.\tprint a random integer between two given integers. | random - figure out which function of random module\n",
    "import random\n",
    "def randno(a,b):\n",
    "    n=random.randint(a,b)\n",
    "    return n\n",
    "\n",
    "randno(5,10)\n",
    "    "
   ]
  },
  {
   "cell_type": "code",
   "execution_count": 13,
   "id": "happy-blake",
   "metadata": {},
   "outputs": [
    {
     "name": "stdout",
     "output_type": "stream",
     "text": [
      "[25, 29, 14, 11, 27]\n"
     ]
    }
   ],
   "source": [
    "# 13.\tprint 5 random integers between two given integers.\n",
    "# a.\trandom module\n",
    "def random_5_num(a,b):\n",
    "    num=random.sample(range(a,b),5)#using .sample method of random module\n",
    "    print(num)\n",
    "random_5_num(10,30)"
   ]
  },
  {
   "cell_type": "code",
   "execution_count": 15,
   "id": "still-narrow",
   "metadata": {},
   "outputs": [
    {
     "name": "stdout",
     "output_type": "stream",
     "text": [
      "[8, 21, 31, 8, 19]\n"
     ]
    }
   ],
   "source": [
    "# b.\tfor loop\n",
    "\n",
    "def random_5_numbers_using_for(a,b):\n",
    "    random_num=[]\n",
    "    for i in range(0,5):\n",
    "        n=random.randint(a,b)\n",
    "        random_num.append(n)\n",
    "    print(random_num)\n",
    "        \n",
    "random_5_numbers_using_for(5,111)"
   ]
  },
  {
   "cell_type": "code",
   "execution_count": 19,
   "id": "close-pennsylvania",
   "metadata": {},
   "outputs": [
    {
     "name": "stdout",
     "output_type": "stream",
     "text": [
      "[15, 12, 17, 19, 17]\n"
     ]
    }
   ],
   "source": [
    "# c.\twhile loop\n",
    "def random_5_numbers_using_while(a,b):\n",
    "    numbers=[]\n",
    "    i=0\n",
    "    while i<5:\n",
    "        n=random.randint(a,b)\n",
    "        numbers.append(n)\n",
    "        i+=1\n",
    "    print(numbers)\n",
    "\n",
    "random_5_numbers_using_while(10,20)\n"
   ]
  },
  {
   "cell_type": "code",
   "execution_count": 37,
   "id": "defensive-wright",
   "metadata": {},
   "outputs": [
    {
     "name": "stdout",
     "output_type": "stream",
     "text": [
      "number is not prime\n"
     ]
    }
   ],
   "source": [
    "# 14.\tcheck if a number is prime or not. | loop + conditionals + modulus operator\n",
    "def is_prime(num):\n",
    "    if num > 1:\n",
    "        for i in range(2,(int(num/2)+1)):\n",
    "            if num%i==0:\n",
    "                print(\"number is not prime\")\n",
    "                break\n",
    "        else:\n",
    "            print(\"number is prime\")\n",
    "            \n",
    "    else:\n",
    "        print(\"give a number greter than 1\")\n",
    "        \n",
    "is_prime(21)"
   ]
  },
  {
   "cell_type": "markdown",
   "id": "solar-queue",
   "metadata": {},
   "source": [
    "### STRINGS QUESTIONS"
   ]
  },
  {
   "cell_type": "code",
   "execution_count": 39,
   "id": "banner-tablet",
   "metadata": {},
   "outputs": [
    {
     "name": "stdout",
     "output_type": "stream",
     "text": [
      "none\n"
     ]
    }
   ],
   "source": [
    "# 1.\treturn 3rd letter of the given string or None if the given string is less than 3 characters. | Index\n",
    "def letter3(a):\n",
    "    if len(a)>=3:\n",
    "        for i in range(0,len(a)):\n",
    "            if i==2:\n",
    "                print(a[i])\n",
    "                break\n",
    "            else:\n",
    "                i=i+1\n",
    "    else:\n",
    "        print(\"none\")\n",
    "\n",
    "letter3(\"do\")\n",
    "            \n",
    "    "
   ]
  },
  {
   "cell_type": "code",
   "execution_count": 40,
   "id": "welcome-eclipse",
   "metadata": {},
   "outputs": [
    {
     "name": "stdout",
     "output_type": "stream",
     "text": [
      "u\n",
      "b\n",
      "i\n"
     ]
    }
   ],
   "source": [
    "#2.\treturn odd indexed characters from a given string or None if the string is empty. | Index with Integer operations | for + integer\n",
    "\n",
    "def oddchar(a):\n",
    "    if len(a)>=1:\n",
    "        for i in range(0,len(a)):\n",
    "            if i%2 !=0:\n",
    "                print(a[i])\n",
    "            else:\n",
    "                i=i+1\n",
    "    else:\n",
    "        print(\"None\")\n",
    "oddchar(\"surbhi\")"
   ]
  },
  {
   "cell_type": "code",
   "execution_count": 43,
   "id": "least-tutorial",
   "metadata": {},
   "outputs": [
    {
     "name": "stdout",
     "output_type": "stream",
     "text": [
      "the 3rd character is  r\n",
      "the 5th charcater is  h\n"
     ]
    }
   ],
   "source": [
    "# 3.\treturn the 3rd to 5th character of the given string or None if the string is less than five characters. | Slicing with length and conditionals\n",
    "\n",
    "def char3_5(a):\n",
    "    if len(a)>=5:\n",
    "        for i in range(0,len(a)):\n",
    "            if i == 2:\n",
    "                print(\"the 3rd character is \" ,a[i])\n",
    "                i=i+1\n",
    "            elif i==4:\n",
    "                print(\"the 5th charcater is \" ,a[i])\n",
    "                break\n",
    "            else:\n",
    "                i=i+1\n",
    "    else:\n",
    "        print(\"None\")\n",
    "        \n",
    "char3_5(\"surbhi\")\n"
   ]
  },
  {
   "cell_type": "code",
   "execution_count": 44,
   "id": "fuzzy-arthur",
   "metadata": {},
   "outputs": [
    {
     "data": {
      "text/plain": [
       "'surbhi singh'"
      ]
     },
     "execution_count": 44,
     "metadata": {},
     "output_type": "execute_result"
    }
   ],
   "source": [
    "# 4.\treturn the joined string given two input strings. | Concatenate\n",
    "\n",
    "def join(a,b):\n",
    "    c=a+\" \"+b\n",
    "    return c\n",
    "\n",
    "join(\"surbhi\",\"singh\")"
   ]
  },
  {
   "cell_type": "code",
   "execution_count": 45,
   "id": "timely-society",
   "metadata": {},
   "outputs": [
    {
     "name": "stdout",
     "output_type": "stream",
     "text": [
      "surbhisingh\n"
     ]
    }
   ],
   "source": [
    "# 5.\treturn all the words of a given string split on space (“ “) without using the inbuilt method of .split(). | Loop and conditionals\n",
    "\n",
    "def givestr(a):\n",
    "    s=\"\"\n",
    "    for i in range(0,len(a)):\n",
    "        if a[i]!=\" \":\n",
    "            s=s+a[i]\n",
    "        else:\n",
    "            continue\n",
    "    print(s)\n",
    "            \n",
    "givestr(\"surbhi singh\")                   \n"
   ]
  },
  {
   "cell_type": "code",
   "execution_count": 48,
   "id": "pressing-appearance",
   "metadata": {},
   "outputs": [
    {
     "name": "stdout",
     "output_type": "stream",
     "text": [
      "'a' appears 1 times\n"
     ]
    }
   ],
   "source": [
    "# 6.\treturn the number of times “a” appears in the given string.\n",
    "\n",
    "def counta(a):\n",
    "    count=0\n",
    "    for i in range(0,len(a)):\n",
    "        if a[i]==\"a\":\n",
    "            count+=1\n",
    "            i+=1\n",
    "        else:\n",
    "            i+=1\n",
    "    print(f\"'a' appears {count} times\")\n",
    "\n",
    "\n",
    "counta(\"shreya\")"
   ]
  },
  {
   "cell_type": "code",
   "execution_count": 49,
   "id": "judicial-consent",
   "metadata": {},
   "outputs": [
    {
     "data": {
      "text/plain": [
       "3"
      ]
     },
     "execution_count": 49,
     "metadata": {},
     "output_type": "execute_result"
    }
   ],
   "source": [
    "# 7.\treturn the number of times vowels appear in the given string. | list\n",
    "def vowels(a):\n",
    "    count=0\n",
    "    for i in range(0,len(a)):\n",
    "        if a[i]==\"a\":\n",
    "            count+=1\n",
    "            \n",
    "        elif a[i]==\"e\":\n",
    "            count+=1\n",
    "            \n",
    "        elif a[i]==\"i\":\n",
    "            count+=1\n",
    "            \n",
    "        elif a[i]==\"o\":\n",
    "            count+=1\n",
    "            \n",
    "        elif a[i]==\"u\":\n",
    "            count+=1\n",
    "        else:\n",
    "            continue\n",
    "    return count\n",
    "\n",
    "vowels(\"babita\")"
   ]
  },
  {
   "cell_type": "code",
   "execution_count": 65,
   "id": "intellectual-guitar",
   "metadata": {},
   "outputs": [
    {
     "data": {
      "text/plain": [
       "{'b': 1, 'a': 1, 'l': 2, 'o': 2, 'n': 1}"
      ]
     },
     "execution_count": 65,
     "metadata": {},
     "output_type": "execute_result"
    }
   ],
   "source": [
    "# 8.\treturn the number of times each character appears in the string.\n",
    "def frequency_of_characters(string):\n",
    "    freq={}\n",
    "    for i in string:\n",
    "        if i in freq:\n",
    "            freq[i]+=1\n",
    "        else:\n",
    "            freq[i]=1\n",
    "    return freq\n",
    "frequency_of_characters(\"balloon\")"
   ]
  },
  {
   "cell_type": "code",
   "execution_count": 68,
   "id": "intense-america",
   "metadata": {},
   "outputs": [
    {
     "name": "stdout",
     "output_type": "stream",
     "text": [
      "surbh\n"
     ]
    }
   ],
   "source": [
    "# 9.\treturn the string after removing the character “i” from the given string.\n",
    "def remove_i(a):\n",
    "    string=''\n",
    "    for i in range(0,len(a)):\n",
    "        if  a[i]==\"i\":\n",
    "            continue\n",
    "        else:\n",
    "            string=string+a[i]\n",
    "    print(string)\n",
    "            \n",
    "remove_i(\"surbhi\")\n",
    "        "
   ]
  },
  {
   "cell_type": "code",
   "execution_count": 70,
   "id": "obvious-wrist",
   "metadata": {},
   "outputs": [
    {
     "name": "stdout",
     "output_type": "stream",
     "text": [
      "srbh\n"
     ]
    }
   ],
   "source": [
    "# 10.\treturn the string after removing all vowels from the given string.\n",
    "def remove_vowel(a):\n",
    "    string=\"\"\n",
    "    for i in range(0,len(a)):\n",
    "        if a[i]==\"a\":\n",
    "            continue\n",
    "        elif a[i]==\"e\":\n",
    "            continue\n",
    "        elif a[i]==\"i\":\n",
    "            continue\n",
    "        elif a[i]==\"o\":\n",
    "            continue\n",
    "        elif a[i]==\"u\":\n",
    "            continue\n",
    "        else:\n",
    "            string=string+a[i]\n",
    "    print(string)\n",
    "            \n",
    "remove_vowel(\"surbhi\")\n",
    "        "
   ]
  },
  {
   "cell_type": "code",
   "execution_count": 71,
   "id": "stuffed-publication",
   "metadata": {},
   "outputs": [
    {
     "name": "stdout",
     "output_type": "stream",
     "text": [
      "Surbhi surbhi SURBHI\n"
     ]
    }
   ],
   "source": [
    "# 11.\treturn the string converted to title case, lowercase and uppercase.\n",
    "def changecase(a):\n",
    "    titlec = a.title()\n",
    "    lowerc = a.lower()\n",
    "    upperc = a.upper()\n",
    "    print(titlec,lowerc,upperc)\n",
    "    \n",
    "changecase(\"sUrBHI\")"
   ]
  },
  {
   "cell_type": "code",
   "execution_count": 72,
   "id": "recreational-communist",
   "metadata": {},
   "outputs": [
    {
     "data": {
      "text/plain": [
       "True"
      ]
     },
     "execution_count": 72,
     "metadata": {},
     "output_type": "execute_result"
    }
   ],
   "source": [
    "# 12.\tcheck if a string is palindrome or not. | interview question - advanced\n",
    "\n",
    "def is_palindrome(a):\n",
    "    for i in range(0,len(a)):\n",
    "        reverse_a=a[len(a)::-1]\n",
    "        if a == reverse_a:\n",
    "            return True\n",
    "        else:\n",
    "            return False\n",
    "        \n",
    "is_palindrome(\"mom\")\n",
    "    "
   ]
  },
  {
   "cell_type": "code",
   "execution_count": 101,
   "id": "threatened-simpson",
   "metadata": {},
   "outputs": [
    {
     "data": {
      "text/plain": [
       "'google'"
      ]
     },
     "execution_count": 101,
     "metadata": {},
     "output_type": "execute_result"
    }
   ],
   "source": [
    "# 13.\tprint the company name of a given email address where the email addresses are in the \"username@companyname.com\" format and are composed of only alphabets.\n",
    "def company_name(email):\n",
    "    for i in range(0,len(email)):\n",
    "            if email[i]==\"@\":\n",
    "                index=i\n",
    "                company=email[(index+1):-4]\n",
    "            else:\n",
    "                continue\n",
    "    return company\n",
    "    \n",
    "    \n",
    "company_name(\"surbhisingh@google.com\")        "
   ]
  },
  {
   "cell_type": "code",
   "execution_count": 102,
   "id": "intimate-shoulder",
   "metadata": {},
   "outputs": [
    {
     "name": "stdout",
     "output_type": "stream",
     "text": [
      "Pascal form of the string is:  CachePrepInterviewPreparation\n"
     ]
    }
   ],
   "source": [
    "# 14.\tconvert snake case to pascal case. | cache_prep_interview_preparation to CachePrepInterviewPreparation\n",
    "def pascal(a):\n",
    "    space=a.replace(\"_\",\" \")\n",
    "    caps =space.title()\n",
    "    nospace=caps.replace(\" \",\"\")\n",
    "    print(\"Pascal form of the string is: \",nospace)\n",
    "    \n",
    "pascal(\"cache_prep_interview_preparation\")"
   ]
  },
  {
   "cell_type": "markdown",
   "id": "lightweight-quantum",
   "metadata": {},
   "source": [
    "### LIST QUESTIONS"
   ]
  },
  {
   "cell_type": "code",
   "execution_count": 103,
   "id": "governmental-fisher",
   "metadata": {},
   "outputs": [
    {
     "data": {
      "text/plain": [
       "6"
      ]
     },
     "execution_count": 103,
     "metadata": {},
     "output_type": "execute_result"
    }
   ],
   "source": [
    "# 1.sum all the elements of a list.\n",
    "\n",
    "def sumall(a):\n",
    "    s=0\n",
    "    for i in a:\n",
    "        s=s+i\n",
    "        i=i+1\n",
    "    return s\n",
    "sumall([1,2,3])"
   ]
  },
  {
   "cell_type": "code",
   "execution_count": 104,
   "id": "substantial-birthday",
   "metadata": {},
   "outputs": [
    {
     "data": {
      "text/plain": [
       "42"
      ]
     },
     "execution_count": 104,
     "metadata": {},
     "output_type": "execute_result"
    }
   ],
   "source": [
    "# 2.find the largest element in the given list.\n",
    "\n",
    "def largest(a):\n",
    "    maxnum=0\n",
    "    for i in range(0,len(a)):\n",
    "        if a[i]>maxnum:\n",
    "            maxnum=a[i]\n",
    "        else:\n",
    "            continue\n",
    "    return maxnum       \n",
    "\n",
    "largest([1,0,42,2])"
   ]
  },
  {
   "cell_type": "code",
   "execution_count": 105,
   "id": "naked-virginia",
   "metadata": {},
   "outputs": [
    {
     "data": {
      "text/plain": [
       "-1"
      ]
     },
     "execution_count": 105,
     "metadata": {},
     "output_type": "execute_result"
    }
   ],
   "source": [
    "# 3.find the smallest element in the given list.\n",
    "def smallest(a):\n",
    "    minnum=0\n",
    "    for i in range(0,len(a)):\n",
    "        if a[i]<minnum:\n",
    "            minnum=a[i]\n",
    "            \n",
    "        else:\n",
    "            continue\n",
    "    return minnum\n",
    "\n",
    "smallest([0,6,-1,4])"
   ]
  },
  {
   "cell_type": "code",
   "execution_count": 106,
   "id": "other-cooperation",
   "metadata": {},
   "outputs": [
    {
     "data": {
      "text/plain": [
       "[3, 2, 5, 1]"
      ]
     },
     "execution_count": 106,
     "metadata": {},
     "output_type": "execute_result"
    }
   ],
   "source": [
    "# 4.to interchange first and last elements in a list.\n",
    "def swap_first_and_last(a):\n",
    "        temp=a[0]\n",
    "        a[0]=a[-1]\n",
    "        a[-1]=temp\n",
    "        return a\n",
    "swap_first_and_last([1,2,5,3])"
   ]
  },
  {
   "cell_type": "code",
   "execution_count": 107,
   "id": "choice-cinema",
   "metadata": {},
   "outputs": [
    {
     "name": "stdout",
     "output_type": "stream",
     "text": [
      "None\n"
     ]
    }
   ],
   "source": [
    "#5.Python program to swap 3rd and 5th elements of a list else return None if the list has less than 3 elements.\n",
    "\n",
    "def swap_3_and_5(a):\n",
    "    if len(a)>=5:\n",
    "        temp = a[2]\n",
    "        a[2]=a[4]\n",
    "        a[4]=temp\n",
    "        return a\n",
    "    else:\n",
    "        print(\"None\") \n",
    "    \n",
    "\n",
    "swap_3_and_5([4,5,3,2])"
   ]
  },
  {
   "cell_type": "code",
   "execution_count": 108,
   "id": "psychological-jungle",
   "metadata": {},
   "outputs": [
    {
     "data": {
      "text/plain": [
       "2"
      ]
     },
     "execution_count": 108,
     "metadata": {},
     "output_type": "execute_result"
    }
   ],
   "source": [
    "#6.to find the length of the given list without using the len() function.\n",
    "\n",
    "def length(a):\n",
    "    count=0\n",
    "    for i in a:\n",
    "        count+=1\n",
    "    return count\n",
    "\n",
    "length([1,2])"
   ]
  },
  {
   "cell_type": "code",
   "execution_count": 109,
   "id": "standard-briefing",
   "metadata": {},
   "outputs": [
    {
     "name": "stdout",
     "output_type": "stream",
     "text": [
      "not found\n"
     ]
    }
   ],
   "source": [
    "#7.to check if an element exists in the given list.\n",
    "\n",
    "def check(a,k):\n",
    "    for i in range(0,len(a)):\n",
    "        if i<=(len(a)-1):\n",
    "            if a[i]==k:\n",
    "                print(\"the element is present at index value : \",i)\n",
    "                break\n",
    "            else:\n",
    "                continue\n",
    "    else :\n",
    "        print(\"not found\")\n",
    "    \n",
    "\n",
    "check([1,2,3],5)"
   ]
  },
  {
   "cell_type": "code",
   "execution_count": 110,
   "id": "velvet-anthropology",
   "metadata": {},
   "outputs": [
    {
     "name": "stdout",
     "output_type": "stream",
     "text": [
      "[1, 2, 3]\n"
     ]
    }
   ],
   "source": [
    "#8. print the elements of the list in the reverse order.\n",
    "\n",
    "def revlist(a):\n",
    "    reverse=[]\n",
    "    for i in range(len(a)):\n",
    "        reverse.append(a[len(a)-(i+1)])\n",
    "    print(reverse)\n",
    "        \n",
    "        \n",
    "revlist([3,2,1])"
   ]
  },
  {
   "cell_type": "code",
   "execution_count": 111,
   "id": "macro-breast",
   "metadata": {},
   "outputs": [
    {
     "data": {
      "text/plain": [
       "6"
      ]
     },
     "execution_count": 111,
     "metadata": {},
     "output_type": "execute_result"
    }
   ],
   "source": [
    "#9.find the product of all the numbers in the list.\n",
    "def multiply(a):\n",
    "    mult=1\n",
    "    for i in range(0,len(a)):\n",
    "        mult=mult*a[i]\n",
    "    return mult\n",
    "\n",
    "multiply([1,2,3])        "
   ]
  },
  {
   "cell_type": "code",
   "execution_count": 113,
   "id": "equipped-evening",
   "metadata": {},
   "outputs": [
    {
     "data": {
      "text/plain": [
       "[2, 4, 2, 6]"
      ]
     },
     "execution_count": 113,
     "metadata": {},
     "output_type": "execute_result"
    }
   ],
   "source": [
    "#10.to print even numbers in a list\n",
    "\n",
    "def evennum(a):\n",
    "    even=[]\n",
    "    for i in range(0,len(a)):\n",
    "        if a[i]%2==0:\n",
    "            even.append(a[i])\n",
    "            \n",
    "        else:\n",
    "            continue\n",
    "    return even\n",
    "            \n",
    "evennum([2,1,4,2,6])"
   ]
  },
  {
   "cell_type": "code",
   "execution_count": 114,
   "id": "based-absolute",
   "metadata": {},
   "outputs": [
    {
     "data": {
      "text/plain": [
       "[1, 5, 3]"
      ]
     },
     "execution_count": 114,
     "metadata": {},
     "output_type": "execute_result"
    }
   ],
   "source": [
    "# 11.to print odd numbers in a list\n",
    "\n",
    "def oddnum(a):\n",
    "    odd=[]\n",
    "    for i in range(0,len(a)):\n",
    "        if a[i]%2 != 0:\n",
    "            odd.append(a[i])\n",
    "        else:\n",
    "            continue\n",
    "    return odd\n",
    "\n",
    "oddnum([2,1,4,5,6,3])        "
   ]
  },
  {
   "cell_type": "code",
   "execution_count": 116,
   "id": "promising-uruguay",
   "metadata": {},
   "outputs": [
    {
     "data": {
      "text/plain": [
       "[1, 4, 3]"
      ]
     },
     "execution_count": 116,
     "metadata": {},
     "output_type": "execute_result"
    }
   ],
   "source": [
    "# 12.to print values present at even index in the list (0, 2, 4 etc)\n",
    "\n",
    "def evenindex(a):\n",
    "    even_i=[]\n",
    "    for i in range(0,len(a)):\n",
    "        if i%2 == 0:\n",
    "            even_i.append(a[i])\n",
    "            \n",
    "        else:\n",
    "            continue\n",
    "    return even_i\n",
    "\n",
    "\n",
    "evenindex([1,2,4,6,3])"
   ]
  },
  {
   "cell_type": "code",
   "execution_count": 118,
   "id": "internal-technical",
   "metadata": {},
   "outputs": [
    {
     "data": {
      "text/plain": [
       "['list', 6]"
      ]
     },
     "execution_count": 118,
     "metadata": {},
     "output_type": "execute_result"
    }
   ],
   "source": [
    "# 13.to print values present at odd index in the list (0, 2, 4 etc)\n",
    "def oddindex(a):\n",
    "    odd_i=[]\n",
    "    for i in range(0,len(a)):\n",
    "        if i%2!=0:\n",
    "            odd_i.append(a[i])\n",
    "        else:\n",
    "            continue\n",
    "    return odd_i\n",
    "\n",
    "oddindex([1,'list',4,6,3])"
   ]
  },
  {
   "cell_type": "code",
   "execution_count": 119,
   "id": "offshore-possible",
   "metadata": {},
   "outputs": [
    {
     "data": {
      "text/plain": [
       "[1, 0, 3]"
      ]
     },
     "execution_count": 119,
     "metadata": {},
     "output_type": "execute_result"
    }
   ],
   "source": [
    "# 14.to print positive numbers in a list\n",
    "def posnum(a):\n",
    "    num=[]\n",
    "    for i in range(0,len(a)):\n",
    "        if a[i]>=0:\n",
    "            num.append(a[i])\n",
    "            \n",
    "        else:\n",
    "            continue\n",
    "    return num\n",
    "            \n",
    "posnum([1,-1,0,3])"
   ]
  },
  {
   "cell_type": "code",
   "execution_count": 120,
   "id": "innocent-combat",
   "metadata": {},
   "outputs": [
    {
     "data": {
      "text/plain": [
       "[-2, -5]"
      ]
     },
     "execution_count": 120,
     "metadata": {},
     "output_type": "execute_result"
    }
   ],
   "source": [
    "# 15.to print negative numbers in a list\n",
    "\n",
    "def negnum(a):\n",
    "    num=[]\n",
    "    for i in range(0,len(a)):\n",
    "        if a[i]<0:\n",
    "            num.append(a[i])\n",
    "        else:\n",
    "            continue\n",
    "    return num\n",
    "\n",
    "negnum([1,-2,3,-5])"
   ]
  },
  {
   "cell_type": "code",
   "execution_count": 123,
   "id": "subject-values",
   "metadata": {},
   "outputs": [
    {
     "data": {
      "text/plain": [
       "[0, 1, 2, 3, 4, 5, 6, 7, 8, 9, 10]"
      ]
     },
     "execution_count": 123,
     "metadata": {},
     "output_type": "execute_result"
    }
   ],
   "source": [
    "#16. to print all positive numbers in a range\n",
    "def posrange(a,b):\n",
    "    positive=[]\n",
    "    for i in range(a,(b+1)):\n",
    "        if i>=0:\n",
    "            positive.append(i)\n",
    "            \n",
    "        else:\n",
    "            continue\n",
    "    return positive\n",
    "            \n",
    "posrange(-5,10)"
   ]
  },
  {
   "cell_type": "code",
   "execution_count": 125,
   "id": "indonesian-promise",
   "metadata": {},
   "outputs": [
    {
     "data": {
      "text/plain": [
       "[-5, -4, -3, -2, -1]"
      ]
     },
     "execution_count": 125,
     "metadata": {},
     "output_type": "execute_result"
    }
   ],
   "source": [
    "# 17.to print all negative numbers in a range\n",
    "def negrange(a,b):\n",
    "    negative=[]\n",
    "    for i in range(a,(b+1)):\n",
    "        if i<0:\n",
    "            negative.append(i)\n",
    "        else:\n",
    "            continue\n",
    "    return negative\n",
    "\n",
    "negrange(-5,10)"
   ]
  },
  {
   "cell_type": "code",
   "execution_count": 126,
   "id": "psychological-skiing",
   "metadata": {},
   "outputs": [
    {
     "data": {
      "text/plain": [
       "['SURBHI', 'SINGH', 'NEHA']"
      ]
     },
     "execution_count": 126,
     "metadata": {},
     "output_type": "execute_result"
    }
   ],
   "source": [
    "# 18.to print all the words in uppercase in a given list.\n",
    "\n",
    "def upcase(a):\n",
    "    b=[]\n",
    "    for i in range(0,len(a)):\n",
    "        b.append(a[i].upper())\n",
    "    return b\n",
    "\n",
    "upcase([\"surbhi\",\"Singh\",\"NeHa\"])"
   ]
  },
  {
   "cell_type": "code",
   "execution_count": 127,
   "id": "dominican-explanation",
   "metadata": {},
   "outputs": [
    {
     "name": "stdout",
     "output_type": "stream",
     "text": [
      "[2]\n"
     ]
    }
   ],
   "source": [
    "# 19.to find which elements present in the first list are not present in the second list.\n",
    "\n",
    "def not_present_in_list2(a,b):\n",
    "    missing=[]\n",
    "    for i in a:\n",
    "        if i not in b:\n",
    "            missing.append(i)\n",
    "    print(missing)\n",
    "present([\"surbhi\",2,1],[\"surbhi\",\"singh\",1,\"@\"])"
   ]
  },
  {
   "cell_type": "markdown",
   "id": "olympic-crystal",
   "metadata": {},
   "source": [
    "### String questions"
   ]
  },
  {
   "cell_type": "code",
   "execution_count": 129,
   "id": "united-brush",
   "metadata": {},
   "outputs": [
    {
     "name": "stdout",
     "output_type": "stream",
     "text": [
      "srbh\n"
     ]
    }
   ],
   "source": [
    "#1. Write a function to remove vowels from a given string.\n",
    "def remove_vowels(a):\n",
    "    vowels=\"aeiou\"\n",
    "    empty=\"\"\n",
    "    for i in a:\n",
    "        if i in vowels:\n",
    "            continue\n",
    "        else:\n",
    "            empty=empty+i\n",
    "    print(empty)\n",
    "    \n",
    "remove_vowels(\"surbhi\")            "
   ]
  },
  {
   "cell_type": "code",
   "execution_count": 130,
   "id": "painful-group",
   "metadata": {},
   "outputs": [
    {
     "data": {
      "text/plain": [
       "True"
      ]
     },
     "execution_count": 130,
     "metadata": {},
     "output_type": "execute_result"
    }
   ],
   "source": [
    "# 2.Write a function to find if a string is palindrome or not.\n",
    "def is_palindrome(a):\n",
    "    for i in range(0,len(a)):\n",
    "        reverse_a=a[len(a)::-1]\n",
    "        if a == reverse_a:\n",
    "            return True\n",
    "        else:\n",
    "            return False\n",
    "        \n",
    "is_palindrome(\"mom\")\n"
   ]
  },
  {
   "cell_type": "code",
   "execution_count": 131,
   "id": "smoking-sperm",
   "metadata": {},
   "outputs": [
    {
     "data": {
      "text/plain": [
       "'ihbrus'"
      ]
     },
     "execution_count": 131,
     "metadata": {},
     "output_type": "execute_result"
    }
   ],
   "source": [
    "# 3.Write a function to reverse a string.\n",
    "def reverse_string(a):\n",
    "    for i in range (0,len(a)):\n",
    "        reverse= a[len(a)::-1]\n",
    "        return reverse\n",
    "    \n",
    "reverse_string(\"surbhi\")"
   ]
  },
  {
   "cell_type": "code",
   "execution_count": 136,
   "id": "proper-nature",
   "metadata": {},
   "outputs": [
    {
     "data": {
      "text/plain": [
       "False"
      ]
     },
     "execution_count": 136,
     "metadata": {},
     "output_type": "execute_result"
    }
   ],
   "source": [
    "# 4.Write a function to find if a given string consists of all 5 vowels.\n",
    "def has_all_vowels(a):\n",
    "    vowels = \"aeiou\"\n",
    "    flag=1\n",
    "    for i in vowels:\n",
    "        if i in a:\n",
    "            continue\n",
    "        else:\n",
    "            return False\n",
    "            break\n",
    "    \n",
    "    else:\n",
    "        return True\n",
    "    \n",
    "has_all_vowels(\"sabiroune\")    "
   ]
  },
  {
   "cell_type": "code",
   "execution_count": 52,
   "id": "prescribed-myrtle",
   "metadata": {},
   "outputs": [
    {
     "name": "stdout",
     "output_type": "stream",
     "text": [
      "{'e': 3, 'n': 3, 'g': 2, 'i': 2, 'r': 1}\n"
     ]
    }
   ],
   "source": [
    "#5. Write a function to print character and its frequency of occurrence in a given string.\n",
    "def occurences(a):\n",
    "    freq={}\n",
    "    for i in a:\n",
    "        if i in freq:\n",
    "            freq[i]+=1\n",
    "        else:\n",
    "            freq[i]=1\n",
    "    print(freq)\n",
    "        \n",
    "occurences(\"engineering\")\n",
    "    "
   ]
  },
  {
   "cell_type": "code",
   "execution_count": 137,
   "id": "dried-failing",
   "metadata": {},
   "outputs": [
    {
     "data": {
      "text/plain": [
       "True"
      ]
     },
     "execution_count": 137,
     "metadata": {},
     "output_type": "execute_result"
    }
   ],
   "source": [
    "# 6.Given a pattern that a URL starts with http:// and ends with .com, write a function to determine if the given string is a URL.\n",
    "def is_URL(url):\n",
    "    if url[0:7]==\"http://\":\n",
    "        if url[-4:]==\".com\":\n",
    "            return True\n",
    "    \n",
    "    else:\n",
    "        return False\n",
    "\n",
    "is_URL(\"http://www.geekforgeeks.com\")\n",
    "\n"
   ]
  },
  {
   "cell_type": "code",
   "execution_count": 138,
   "id": "complicated-excitement",
   "metadata": {},
   "outputs": [
    {
     "data": {
      "text/plain": [
       "27"
      ]
     },
     "execution_count": 138,
     "metadata": {},
     "output_type": "execute_result"
    }
   ],
   "source": [
    "# 7.Write a function to print the sum of all values of a dictionary.\n",
    "def sum_all_values(dictionary):\n",
    "    sum=0\n",
    "    for value in dictionary.values():\n",
    "        sum+=value\n",
    "    return sum\n",
    "sum_all_values({\"a\":1,\"b\":24,\"c\":2})\n",
    "        "
   ]
  },
  {
   "cell_type": "code",
   "execution_count": 139,
   "id": "coral-phoenix",
   "metadata": {},
   "outputs": [
    {
     "data": {
      "text/plain": [
       "6"
      ]
     },
     "execution_count": 139,
     "metadata": {},
     "output_type": "execute_result"
    }
   ],
   "source": [
    "# 8.Write a function to print the sum of all keys of a dictionary.\n",
    "def sum_all_keys(dictionary):\n",
    "    sum=0\n",
    "    for key in dictionary.keys():\n",
    "        sum+=key\n",
    "    return sum\n",
    "\n",
    "sum_all_keys({1:\"string\",\n",
    "              2:[1,2,3],\n",
    "              3:1})\n"
   ]
  },
  {
   "cell_type": "code",
   "execution_count": 140,
   "id": "terminal-medicaid",
   "metadata": {},
   "outputs": [
    {
     "data": {
      "text/plain": [
       "[0, 1, 2, 3, 4, 5, 7, 8, 10]"
      ]
     },
     "execution_count": 140,
     "metadata": {},
     "output_type": "execute_result"
    }
   ],
   "source": [
    "# 9.Write a function to merge two sorted lists into a third sorted list.\n",
    "def sort_and_merge(list1,list2):\n",
    "    list1.sort()\n",
    "    list2.sort()\n",
    "    slist3=list1+list2\n",
    "    slist3.sort()\n",
    "    return slist3\n",
    "\n",
    "list1=[1,4,2,5,0]\n",
    "list2=[10,8,3,7]\n",
    "sort_and_merge(list1,list2)   \n",
    "  "
   ]
  }
 ],
 "metadata": {
  "kernelspec": {
   "display_name": "Python 3",
   "language": "python",
   "name": "python3"
  },
  "language_info": {
   "codemirror_mode": {
    "name": "ipython",
    "version": 3
   },
   "file_extension": ".py",
   "mimetype": "text/x-python",
   "name": "python",
   "nbconvert_exporter": "python",
   "pygments_lexer": "ipython3",
   "version": "3.8.0"
  }
 },
 "nbformat": 4,
 "nbformat_minor": 5
}
